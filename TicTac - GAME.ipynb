{
 "cells": [
  {
   "cell_type": "markdown",
   "metadata": {},
   "source": [
    "# TicTac - GAME"
   ]
  },
  {
   "cell_type": "code",
   "execution_count": 6,
   "metadata": {},
   "outputs": [],
   "source": [
    "from IPython.display import clear_output\n",
    "\n",
    "def print_board(cv, start=False):\n",
    "    if not start:\n",
    "        clear_output()\n",
    "    cell = ' {} '\n",
    "    line = '-' * len(cell);\n",
    "    i = 1    \n",
    "    while i in range(1,len(cv)):\n",
    "        if i in (4,7):\n",
    "            print(line*3)\n",
    "        if start:\n",
    "            print(cell.format(i) +'|'+ cell.format(i+1) +'|'+ cell.format(i+2))\n",
    "        else:\n",
    "            print(cell.format(cv[i]) +'|'+ cell.format(cv[i+1]) +'|'+ cell.format(cv[i+2]))\n",
    "        i += 3\n",
    "\n",
    "def cells_are_over(cv):\n",
    "    for i in cv:\n",
    "        if cv[i] == ' ':\n",
    "            return False\n",
    "    return True\n",
    "\n",
    "def get_player_symb(attept):\n",
    "    if attept%2 == 0:\n",
    "        return 'O'\n",
    "    else:\n",
    "        return 'X'\n",
    "\n",
    "def get_player_numb(attept):\n",
    "    if attept%2 == 0:\n",
    "        return 2\n",
    "    else:\n",
    "        return 1\n",
    "    \n",
    "def get_winner(cv):\n",
    "    win_combinations = {1:'123', 2:'456', 3:'789', # horisontal\n",
    "                        4:'147', 5:'258', 6:'369', # vertical\n",
    "                        7:'159', 8:'357'} # diagonal\n",
    "    player1_keys = ''\n",
    "    player2_keys = ''\n",
    "                        \n",
    "    for i in cv:\n",
    "        if cv[i] == 'X':\n",
    "            player1_keys = player1_keys + str(i)\n",
    "        elif cv[i] == 'O':\n",
    "            player2_keys = player2_keys + str(i)\n",
    "    \n",
    "    for i in win_combinations:\n",
    "        for j in list(win_combinations[i]):\n",
    "            if j not in player1_keys:\n",
    "                break\n",
    "            elif j == win_combinations[i][::-1][0]:\n",
    "                return '1'\n",
    "        for j in list(win_combinations[i]):\n",
    "            if j not in player2_keys:\n",
    "                break\n",
    "            elif j == win_combinations[i][::-1][0]:\n",
    "                return '2'\n",
    "    return '0'"
   ]
  },
  {
   "cell_type": "code",
   "execution_count": 7,
   "metadata": {},
   "outputs": [
    {
     "name": "stdout",
     "output_type": "stream",
     "text": [
      " X | X | O \n",
      "------------\n",
      " O | O | X \n",
      "------------\n",
      " X | X | O \n",
      "\n",
      "Drawn. Try to play ones again.\n"
     ]
    }
   ],
   "source": [
    "game_cells = {1:' ',2:' ',3:' ',4:' ',5:' ',6:' ',7:' ',8:' ',9:' '}\n",
    "game_step = 1\n",
    "start = True\n",
    "\n",
    "print(\"Hello. Welcome to Tic Tac game.\")\n",
    "print('\\nHere is our board and cells positions on it(1-9)\\nWith each step you should choose cell position\\n')\n",
    "print_board(game_cells, start)\n",
    "print(\"\\nGame is for two players:\\n\\tplayer #1 goes for 'X'\\n\\tplayer #2 goes for 'O'\")\n",
    "    \n",
    "start = input(\"\\nWould you like to start ? (y/n)\")\n",
    "while start not in 'yn':\n",
    "    start = input('Please enter y/n')\n",
    "\n",
    "if start == 'y':\n",
    "    while get_winner(game_cells) == '0' and not cells_are_over(game_cells):     \n",
    "        cell_numb = input('\\nPlayer #{}:'.format(get_player_numb(game_step)))\n",
    "        if cell_numb == 'q':\n",
    "            break\n",
    "        elif cell_numb not in list('123456789'):\n",
    "            print(\"\\nPlease enter valid cell position (1-9)\")\n",
    "        else:\n",
    "            if game_cells[int(cell_numb)] == ' ':\n",
    "                game_cells[int(cell_numb)] = get_player_symb(game_step)\n",
    "                print_board(game_cells, start)\n",
    "                print_board(game_cells)\n",
    "                game_step += 1\n",
    "            else:\n",
    "                print('\\nThis cell is not empty, please choose a different one.')\n",
    "        \n",
    "    if cells_are_over(game_cells):\n",
    "        print('\\nDrawn. Try to play ones again.')\n",
    "    elif get_winner(game_cells) != '0':\n",
    "        print('\\nPlayer #{} wins!'.format(get_winner(game_cells)))\n",
    "    else:\n",
    "        print('\\nSee you next time :)')\n",
    "else:\n",
    "    print('Thanks. See you next time :)')"
   ]
  },
  {
   "cell_type": "code",
   "execution_count": null,
   "metadata": {},
   "outputs": [],
   "source": []
  }
 ],
 "metadata": {
  "kernelspec": {
   "display_name": "Python 3",
   "language": "python",
   "name": "python3"
  },
  "language_info": {
   "codemirror_mode": {
    "name": "ipython",
    "version": 3
   },
   "file_extension": ".py",
   "mimetype": "text/x-python",
   "name": "python",
   "nbconvert_exporter": "python",
   "pygments_lexer": "ipython3",
   "version": "3.6.5"
  }
 },
 "nbformat": 4,
 "nbformat_minor": 2
}
