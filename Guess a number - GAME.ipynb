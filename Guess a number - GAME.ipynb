{
 "cells": [
  {
   "cell_type": "markdown",
   "metadata": {},
   "source": [
    "# Guess a number - GAME"
   ]
  },
  {
   "cell_type": "code",
   "execution_count": 1,
   "metadata": {},
   "outputs": [],
   "source": [
    "from random import randint"
   ]
  },
  {
   "cell_type": "code",
   "execution_count": 37,
   "metadata": {},
   "outputs": [],
   "source": [
    "gen_nmb = randint(1,100)"
   ]
  },
  {
   "cell_type": "code",
   "execution_count": 48,
   "metadata": {},
   "outputs": [],
   "source": [
    "while True:\n",
    "\n",
    "    attemp_nmb += 1\n",
    "    \n",
    "    if attemp_nmb == 1:\n",
    "        print(\"Try to guess a number !!!\\nKeep entering your choise and we will give you a hint how close you are\\nLet's begin !!!\")\n",
    "    else:\n",
    "        print(\"Try one more time or enter 'q' to quit the game\")\n",
    "        \n",
    "    print(\"\\nAttemp N{}:\".format(attemp_nmb))\n",
    "    \n",
    "    u_nmb = input()\n",
    "    if(u_nmb[0] not in '0123456789') and u_nmb != 'q':\n",
    "        print(\"Input should be an integer\")\n",
    "        continue\n",
    "    elif u_nmb == 'q':\n",
    "        break\n",
    "    else:\n",
    "        u_nmb = int(u_nmb)\n",
    "\n",
    "    if(u_nmb == gen_nmb):\n",
    "        print(\"You did it !!! It is: {}\".format(gen_nmb))\n",
    "        break\n",
    "    else:\n",
    "        if u_nmb < 1 or u_nmb > 100:\n",
    "            print(\"OUT OF BOUNDS\")\n",
    "        elif attemp_nmb == 1:\n",
    "            if u_nmb in range(gen_nmb - 10, gen_nmb + 10):\n",
    "                print(\"WARM!\")\n",
    "            else:\n",
    "                print(\"COLD!\")\n",
    "        else:\n",
    "            if abs(u_nmb - gen_nmb) < prev_diff:\n",
    "                print(\"WARMER!\")\n",
    "            else:\n",
    "                print(\"COLDER!\")\n",
    "        \n",
    "        prev_diff = abs(u_nmb - gen_nmb)\n",
    "    "
   ]
  },
  {
   "cell_type": "code",
   "execution_count": 55,
   "metadata": {},
   "outputs": [],
   "source": [
    "def lesser_of_two_evens(a,b):\n",
    "    if a%2 == 0 and b%2 == 0:\n",
    "        return min(a,b)\n",
    "    else:\n",
    "        return max(a,b)"
   ]
  },
  {
   "cell_type": "code",
   "execution_count": 56,
   "metadata": {},
   "outputs": [
    {
     "data": {
      "text/plain": [
       "2"
      ]
     },
     "execution_count": 56,
     "metadata": {},
     "output_type": "execute_result"
    }
   ],
   "source": [
    "lesser_of_two_evens(2,4)"
   ]
  },
  {
   "cell_type": "code",
   "execution_count": 57,
   "metadata": {},
   "outputs": [
    {
     "data": {
      "text/plain": [
       "5"
      ]
     },
     "execution_count": 57,
     "metadata": {},
     "output_type": "execute_result"
    }
   ],
   "source": [
    "lesser_of_two_evens(5,2)"
   ]
  },
  {
   "cell_type": "code",
   "execution_count": 6,
   "metadata": {},
   "outputs": [],
   "source": [
    "a = [4, 5, 6, 7, 8, 9]\n",
    "# a = range(4,1)"
   ]
  },
  {
   "cell_type": "code",
   "execution_count": 8,
   "metadata": {},
   "outputs": [
    {
     "data": {
      "text/plain": [
       "1"
      ]
     },
     "execution_count": 8,
     "metadata": {},
     "output_type": "execute_result"
    }
   ],
   "source": [
    "7%2"
   ]
  },
  {
   "cell_type": "code",
   "execution_count": 16,
   "metadata": {},
   "outputs": [
    {
     "data": {
      "text/plain": [
       "['a', 'c']"
      ]
     },
     "execution_count": 16,
     "metadata": {},
     "output_type": "execute_result"
    }
   ],
   "source": [
    "ls = ['a','b','c']\n",
    "ch = 'b'\n",
    "list(filter(lambda l: l != ch,ls))"
   ]
  },
  {
   "cell_type": "code",
   "execution_count": null,
   "metadata": {},
   "outputs": [],
   "source": []
  },
  {
   "cell_type": "code",
   "execution_count": null,
   "metadata": {},
   "outputs": [],
   "source": []
  }
 ],
 "metadata": {
  "kernelspec": {
   "display_name": "Python 3",
   "language": "python",
   "name": "python3"
  },
  "language_info": {
   "codemirror_mode": {
    "name": "ipython",
    "version": 3
   },
   "file_extension": ".py",
   "mimetype": "text/x-python",
   "name": "python",
   "nbconvert_exporter": "python",
   "pygments_lexer": "ipython3",
   "version": "3.6.5"
  }
 },
 "nbformat": 4,
 "nbformat_minor": 1
}
