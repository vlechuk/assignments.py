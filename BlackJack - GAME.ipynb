{
 "cells": [
  {
   "cell_type": "code",
   "execution_count": 115,
   "metadata": {},
   "outputs": [],
   "source": [
    "# some icons 10(♥) ♣K 🂠 ♦K🂡 1(♠)\n",
    "from random import shuffle\n",
    "\n",
    "class Deck:      \n",
    "    cards = [{'2':2},\n",
    "             {'3':3},\n",
    "             {'4':4},\n",
    "             {'5':5},\n",
    "             {'6':6},\n",
    "             {'7':7},\n",
    "             {'8':8},\n",
    "             {'9':9},\n",
    "             {'10':10},\n",
    "             {'Jack':10},\n",
    "             {'Queen':10},\n",
    "             {'King':10},\n",
    "             {'Ace':[1,11]}] \n",
    "\n",
    "    suits = ['♥','♣','♦','♠']\n",
    "        \n",
    "    def __init__(self, decks_numb = 1, shuffle_times = 10):\n",
    "        \n",
    "        def cards_generator(decks_numb, shuffle_times):\n",
    "            \n",
    "            def set_suit(card, suit):\n",
    "                return {k+suit:card[k] for k in card.keys()}\n",
    "\n",
    "            def get_shufffled_decks(decks_numb, shuffle_times):\n",
    "\n",
    "                deck = list()\n",
    "\n",
    "                for n in range(decks_numb):\n",
    "                    for s in Deck.suits:\n",
    "                        deck.extend(list(map(set_suit, Deck.cards, [s]*len(Deck.cards))))\n",
    "\n",
    "                for i in range(shuffle_times):\n",
    "                    shuffle(deck)\n",
    "\n",
    "                return deck\n",
    "\n",
    "            for c in get_shufffled_decks(decks_numb, shuffle_times):\n",
    "                yield c\n",
    "        \n",
    "        self.cards_set = cards_generator(decks_numb, shuffle_times)\n",
    "\n",
    "class Hand:\n",
    "    def __init__(self, budget=0, is_player=True):        \n",
    "        self.budget = budget * is_player\n",
    "        self.cards = []\n",
    "    def hit(self, card):\n",
    "        self.cards.append(card)\n",
    "    def stand(self):\n",
    "        pass\n",
    "\n",
    "#     def __str__(self):\n",
    "#         return(\"Players\"for card in self.cards:\n",
    "#             print(card)\n",
    "#         return('sdsd')"
   ]
  },
  {
   "cell_type": "code",
   "execution_count": 117,
   "metadata": {},
   "outputs": [
    {
     "name": "stdout",
     "output_type": "stream",
     "text": [
      "[{'Ace♠': [1, 11]}, {'10♥': 10}]\n"
     ]
    }
   ],
   "source": [
    "deck = Deck(2,1)\n",
    "cards_set = deck.cards_set\n",
    "player = Hand(100)   \n",
    "dealer = Hand()\n",
    "\n",
    "# start the game\n",
    "try:\n",
    "    player.hit(next(cards_set))\n",
    "    player.hit(next(cards_set))\n",
    "\n",
    "#     print(player)\n",
    "    print(player.cards)\n",
    "    \n",
    "except StopIteration:\n",
    "    print('Game over')"
   ]
  },
  {
   "cell_type": "code",
   "execution_count": 286,
   "metadata": {},
   "outputs": [
    {
     "data": {
      "text/plain": [
       "[{'json': {'metadata': 'm1', 'f1': '1'},\n",
       "  'insertId': '57adb818-2b5c-4bbc-ab67-9f5db8ee34a1'},\n",
       " {'json': {'metadata': 'm2', 'f1': '2'},\n",
       "  'insertId': 'deaf3581-f1b1-4bea-ae20-6a655f49a108'}]"
      ]
     },
     "execution_count": 286,
     "metadata": {},
     "output_type": "execute_result"
    }
   ],
   "source": [
    "import uuid\n",
    "json_rows = [{\"metadata\":\"m1\",\"f1\":\"1\"},{\"metadata\":\"m2\",\"f1\":\"2\"}]\n",
    "row_ids = None #[\"1\"]\n",
    "rows_info = []\n",
    "\n",
    "for index, row in enumerate(json_rows):\n",
    "#     print(index, row)\n",
    "    info = {'json': row}\n",
    "    if row_ids is not None:\n",
    "        info['insertId'] = row_ids[index]\n",
    "    else:\n",
    "        info['insertId'] = str(uuid.uuid4())\n",
    "    rows_info.append(info)\n",
    "\n",
    "rows_info\n",
    " "
   ]
  },
  {
   "cell_type": "code",
   "execution_count": 119,
   "metadata": {},
   "outputs": [
    {
     "data": {
      "text/plain": [
       "[{}, {}, {}, {}, {}, {}, {}, {}, {}, {}]"
      ]
     },
     "execution_count": 119,
     "metadata": {},
     "output_type": "execute_result"
    }
   ],
   "source": [
    "class Test():\n",
    "    a = 1\n",
    "    def __init__(self,a,is_player=True):\n",
    "        if(is_player):\n",
    "            self.a = 1+1\n",
    "    def do(self,b):\n",
    "        return b + Test.a\n",
    "\n",
    "[{}]*10"
   ]
  },
  {
   "cell_type": "code",
   "execution_count": 29,
   "metadata": {},
   "outputs": [
    {
     "data": {
      "text/plain": [
       "''"
      ]
     },
     "execution_count": 29,
     "metadata": {},
     "output_type": "execute_result"
    }
   ],
   "source": [
    "import json\n",
    "import ast\n",
    "\n",
    "m = '{\"d\":1,\"b\":null}'\n",
    "m = m.replace('null', '\"\"')\n",
    "# print(m)\n",
    "d = ast.literal_eval(m)\n",
    "\n",
    "# print(m)\n",
    "# type(d)\n",
    "d.get('b')\n",
    "\n",
    "\n",
    "\n"
   ]
  },
  {
   "cell_type": "code",
   "execution_count": null,
   "metadata": {},
   "outputs": [],
   "source": []
  }
 ],
 "metadata": {
  "kernelspec": {
   "display_name": "Python 3",
   "language": "python",
   "name": "python3"
  },
  "language_info": {
   "codemirror_mode": {
    "name": "ipython",
    "version": 3
   },
   "file_extension": ".py",
   "mimetype": "text/x-python",
   "name": "python",
   "nbconvert_exporter": "python",
   "pygments_lexer": "ipython3",
   "version": "3.6.5"
  }
 },
 "nbformat": 4,
 "nbformat_minor": 2
}
